{
 "cells": [
  {
   "cell_type": "markdown",
   "id": "232aa26e",
   "metadata": {
    "papermill": {
     "duration": 0.003318,
     "end_time": "2022-12-08T15:15:54.659089",
     "exception": false,
     "start_time": "2022-12-08T15:15:54.655771",
     "status": "completed"
    },
    "tags": []
   },
   "source": [
    "# **Amazon Book Review Model Sentiment Analysis with BERT**"
   ]
  },
  {
   "cell_type": "markdown",
   "id": "6d106042",
   "metadata": {
    "papermill": {
     "duration": 0.001964,
     "end_time": "2022-12-08T15:15:54.663576",
     "exception": false,
     "start_time": "2022-12-08T15:15:54.661612",
     "status": "completed"
    },
    "tags": []
   },
   "source": [
    "In this model we will look at how a prediction of Amazon book reviews written statements being positive or negative. Below we will import the required packages for this modelusing BERT."
   ]
  },
  {
   "cell_type": "code",
   "execution_count": 1,
   "id": "b2f2399e",
   "metadata": {
    "_cell_guid": "b1076dfc-b9ad-4769-8c92-a6c4dae69d19",
    "_uuid": "8f2839f25d086af736a60e9eeb907d3b93b6e0e5",
    "execution": {
     "iopub.execute_input": "2022-12-08T15:15:54.669975Z",
     "iopub.status.busy": "2022-12-08T15:15:54.669482Z",
     "iopub.status.idle": "2022-12-08T15:16:01.395507Z",
     "shell.execute_reply": "2022-12-08T15:16:01.394491Z"
    },
    "papermill": {
     "duration": 6.732525,
     "end_time": "2022-12-08T15:16:01.398269",
     "exception": false,
     "start_time": "2022-12-08T15:15:54.665744",
     "status": "completed"
    },
    "tags": []
   },
   "outputs": [],
   "source": [
    "import pandas as pd\n",
    "import numpy as np\n",
    "import tensorflow as tf\n",
    "from tensorflow.keras.layers import Dense, Input\n",
    "from tensorflow.keras.optimizers import Adam\n",
    "from tensorflow.keras.models import Model\n",
    "from tensorflow.keras.callbacks import ModelCheckpoint\n",
    "import tensorflow_hub as hub"
   ]
  },
  {
   "cell_type": "markdown",
   "id": "458bc229",
   "metadata": {
    "papermill": {
     "duration": 0.002013,
     "end_time": "2022-12-08T15:16:01.402763",
     "exception": false,
     "start_time": "2022-12-08T15:16:01.400750",
     "status": "completed"
    },
    "tags": []
   },
   "source": [
    "Importing data subset"
   ]
  },
  {
   "cell_type": "code",
   "execution_count": 2,
   "id": "18246de5",
   "metadata": {
    "execution": {
     "iopub.execute_input": "2022-12-08T15:16:01.409130Z",
     "iopub.status.busy": "2022-12-08T15:16:01.408448Z",
     "iopub.status.idle": "2022-12-08T15:16:01.724492Z",
     "shell.execute_reply": "2022-12-08T15:16:01.723694Z"
    },
    "papermill": {
     "duration": 0.322208,
     "end_time": "2022-12-08T15:16:01.727143",
     "exception": false,
     "start_time": "2022-12-08T15:16:01.404935",
     "status": "completed"
    },
    "tags": []
   },
   "outputs": [
    {
     "data": {
      "text/plain": [
       "(10000, 10)"
      ]
     },
     "execution_count": 2,
     "metadata": {},
     "output_type": "execute_result"
    }
   ],
   "source": [
    "df = pd.read_csv(\"../input/reviews-subset/reviews_subset.csv\")\n",
    "df.shape"
   ]
  },
  {
   "cell_type": "markdown",
   "id": "b834d3bb",
   "metadata": {
    "papermill": {
     "duration": 0.002096,
     "end_time": "2022-12-08T15:16:01.731810",
     "exception": false,
     "start_time": "2022-12-08T15:16:01.729714",
     "status": "completed"
    },
    "tags": []
   },
   "source": [
    "Spliting the dataset into test and training sets."
   ]
  },
  {
   "cell_type": "code",
   "execution_count": 3,
   "id": "5e1da57e",
   "metadata": {
    "execution": {
     "iopub.execute_input": "2022-12-08T15:16:01.738199Z",
     "iopub.status.busy": "2022-12-08T15:16:01.737573Z",
     "iopub.status.idle": "2022-12-08T15:16:01.786077Z",
     "shell.execute_reply": "2022-12-08T15:16:01.784703Z"
    },
    "papermill": {
     "duration": 0.05464,
     "end_time": "2022-12-08T15:16:01.788700",
     "exception": false,
     "start_time": "2022-12-08T15:16:01.734060",
     "status": "completed"
    },
    "tags": []
   },
   "outputs": [
    {
     "name": "stdout",
     "output_type": "stream",
     "text": [
      "df.shape: (6000, 10)\n",
      "df_test.shape: (4000, 10)\n"
     ]
    },
    {
     "data": {
      "text/html": [
       "<div>\n",
       "<style scoped>\n",
       "    .dataframe tbody tr th:only-of-type {\n",
       "        vertical-align: middle;\n",
       "    }\n",
       "\n",
       "    .dataframe tbody tr th {\n",
       "        vertical-align: top;\n",
       "    }\n",
       "\n",
       "    .dataframe thead th {\n",
       "        text-align: right;\n",
       "    }\n",
       "</style>\n",
       "<table border=\"1\" class=\"dataframe\">\n",
       "  <thead>\n",
       "    <tr style=\"text-align: right;\">\n",
       "      <th></th>\n",
       "      <th>Id</th>\n",
       "      <th>Title</th>\n",
       "      <th>Price</th>\n",
       "      <th>User_id</th>\n",
       "      <th>profileName</th>\n",
       "      <th>review/helpfulness</th>\n",
       "      <th>review/score</th>\n",
       "      <th>review/time</th>\n",
       "      <th>review/summary</th>\n",
       "      <th>review/text</th>\n",
       "    </tr>\n",
       "  </thead>\n",
       "  <tbody>\n",
       "    <tr>\n",
       "      <th>9053</th>\n",
       "      <td>B000Q032UY</td>\n",
       "      <td>The Hobbit or There and Back Again</td>\n",
       "      <td>NaN</td>\n",
       "      <td>ARXR9EXH9CFDW</td>\n",
       "      <td>SolarT \"SolarT\"</td>\n",
       "      <td>0/2</td>\n",
       "      <td>3.0</td>\n",
       "      <td>1356307200</td>\n",
       "      <td>Ok read</td>\n",
       "      <td>The story is not that interesting if you have ...</td>\n",
       "    </tr>\n",
       "    <tr>\n",
       "      <th>351</th>\n",
       "      <td>B0006IU3ZS</td>\n",
       "      <td>Unfit for Command: Swift Boat Veterans Speak O...</td>\n",
       "      <td>NaN</td>\n",
       "      <td>AY1DIMO563HFG</td>\n",
       "      <td>loyal customer</td>\n",
       "      <td>7/11</td>\n",
       "      <td>4.0</td>\n",
       "      <td>1095552000</td>\n",
       "      <td>Unfit for Command</td>\n",
       "      <td>I was sorry to see that Amazon.com suspends th...</td>\n",
       "    </tr>\n",
       "    <tr>\n",
       "      <th>6855</th>\n",
       "      <td>0940666162</td>\n",
       "      <td>Long John Dunn of Taos: From Texas Outlaw to N...</td>\n",
       "      <td>NaN</td>\n",
       "      <td>A2URFH1MT57TID</td>\n",
       "      <td>Trent Rock</td>\n",
       "      <td>0/0</td>\n",
       "      <td>5.0</td>\n",
       "      <td>1248825600</td>\n",
       "      <td>Great book!! Great Man!!</td>\n",
       "      <td>WOW...Can't believe I had never heard of John ...</td>\n",
       "    </tr>\n",
       "    <tr>\n",
       "      <th>210</th>\n",
       "      <td>1581804091</td>\n",
       "      <td>Realistic Pet Portraits in Colored Pencil</td>\n",
       "      <td>21.54</td>\n",
       "      <td>A3C5WTJO996F0X</td>\n",
       "      <td>E. Nathan \"Zen Knitter\"</td>\n",
       "      <td>4/4</td>\n",
       "      <td>5.0</td>\n",
       "      <td>1214438400</td>\n",
       "      <td>Amazing and helpful...</td>\n",
       "      <td>I bought this book with several others, and I ...</td>\n",
       "    </tr>\n",
       "    <tr>\n",
       "      <th>4270</th>\n",
       "      <td>0970417608</td>\n",
       "      <td>Genius Frequency</td>\n",
       "      <td>19.75</td>\n",
       "      <td>A3B3W3Y5MBGLDH</td>\n",
       "      <td>Julie B. \"Quantum explorer\"</td>\n",
       "      <td>1/1</td>\n",
       "      <td>5.0</td>\n",
       "      <td>1276646400</td>\n",
       "      <td>Raising your frequency? This is the book to te...</td>\n",
       "      <td>I was intuitively lead to purchase this book. ...</td>\n",
       "    </tr>\n",
       "  </tbody>\n",
       "</table>\n",
       "</div>"
      ],
      "text/plain": [
       "              Id                                              Title  Price  \\\n",
       "9053  B000Q032UY                 The Hobbit or There and Back Again    NaN   \n",
       "351   B0006IU3ZS  Unfit for Command: Swift Boat Veterans Speak O...    NaN   \n",
       "6855  0940666162  Long John Dunn of Taos: From Texas Outlaw to N...    NaN   \n",
       "210   1581804091          Realistic Pet Portraits in Colored Pencil  21.54   \n",
       "4270  0970417608                                   Genius Frequency  19.75   \n",
       "\n",
       "             User_id                  profileName review/helpfulness  \\\n",
       "9053   ARXR9EXH9CFDW              SolarT \"SolarT\"                0/2   \n",
       "351    AY1DIMO563HFG               loyal customer               7/11   \n",
       "6855  A2URFH1MT57TID                   Trent Rock                0/0   \n",
       "210   A3C5WTJO996F0X      E. Nathan \"Zen Knitter\"                4/4   \n",
       "4270  A3B3W3Y5MBGLDH  Julie B. \"Quantum explorer\"                1/1   \n",
       "\n",
       "      review/score  review/time  \\\n",
       "9053           3.0   1356307200   \n",
       "351            4.0   1095552000   \n",
       "6855           5.0   1248825600   \n",
       "210            5.0   1214438400   \n",
       "4270           5.0   1276646400   \n",
       "\n",
       "                                         review/summary  \\\n",
       "9053                                            Ok read   \n",
       "351                                   Unfit for Command   \n",
       "6855                           Great book!! Great Man!!   \n",
       "210                              Amazing and helpful...   \n",
       "4270  Raising your frequency? This is the book to te...   \n",
       "\n",
       "                                            review/text  \n",
       "9053  The story is not that interesting if you have ...  \n",
       "351   I was sorry to see that Amazon.com suspends th...  \n",
       "6855  WOW...Can't believe I had never heard of John ...  \n",
       "210   I bought this book with several others, and I ...  \n",
       "4270  I was intuitively lead to purchase this book. ...  "
      ]
     },
     "execution_count": 3,
     "metadata": {},
     "output_type": "execute_result"
    }
   ],
   "source": [
    "import random\n",
    "random.seed(89)\n",
    "\n",
    "df_full = df.copy()\n",
    "assert df_full.shape[0] == 10000\n",
    "\n",
    "indices = list(range(df_full.shape[0]))\n",
    "\n",
    "random.shuffle(indices)\n",
    "\n",
    "train_indices = indices[:6000]\n",
    "test_indices = indices[6000:]\n",
    "\n",
    "# df will be the in-sample training dataset\n",
    "df = df_full.iloc[train_indices,:].copy()\n",
    "print(f\"df.shape: {df.shape}\")\n",
    "\n",
    "# df_test will be the out-of-sample validation dataset\n",
    "df_test = df_full.iloc[test_indices,:].copy()\n",
    "print(f\"df_test.shape: {df_test.shape}\")\n",
    "df_test.head()"
   ]
  }
 ],
 "metadata": {
  "kernelspec": {
   "display_name": "Python 3",
   "language": "python",
   "name": "python3"
  },
  "language_info": {
   "codemirror_mode": {
    "name": "ipython",
    "version": 3
   },
   "file_extension": ".py",
   "mimetype": "text/x-python",
   "name": "python",
   "nbconvert_exporter": "python",
   "pygments_lexer": "ipython3",
   "version": "3.7.12"
  },
  "papermill": {
   "default_parameters": {},
   "duration": 19.184593,
   "end_time": "2022-12-08T15:16:05.217995",
   "environment_variables": {},
   "exception": null,
   "input_path": "__notebook__.ipynb",
   "output_path": "__notebook__.ipynb",
   "parameters": {},
   "start_time": "2022-12-08T15:15:46.033402",
   "version": "2.3.4"
  }
 },
 "nbformat": 4,
 "nbformat_minor": 5
}
