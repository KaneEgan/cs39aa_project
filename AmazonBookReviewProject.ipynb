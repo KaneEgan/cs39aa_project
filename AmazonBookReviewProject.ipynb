{
 "cells": [
  {
   "cell_type": "markdown",
   "id": "8ceb9d44",
   "metadata": {
    "papermill": {
     "duration": 0.00296,
     "end_time": "2022-10-31T23:04:48.204543",
     "exception": false,
     "start_time": "2022-10-31T23:04:48.201583",
     "status": "completed"
    },
    "tags": []
   },
   "source": [
    "# Predicting Book Review as positive or negative based on written Amazon Book Reviews \n",
    "\n",
    "NLP with Deep Learning\n",
    "\n",
    "Kane Egan\n",
    "\n",
    "\n",
    "This notebook is intended to serve as a template to complete Part 1 of the projects. Feel free to modify this notebook as needed, but be sure to have the two main parts, a) a introductory proposal section describing what it is your doing to do and where the dataset originates, and b) an exploratory analysis section that has the histograms, charts, tables, etc. that are the output from your exploratory analysis. \n",
    "\n",
    "__Note you will want to remove the text above, and in the markdown cells below, and replace it with your own text describing the dataset, task, exploratory steps, etc.__"
   ]
  },
  {
   "cell_type": "markdown",
   "id": "91b03336",
   "metadata": {
    "papermill": {
     "duration": 0.001556,
     "end_time": "2022-10-31T23:04:48.208342",
     "exception": false,
     "start_time": "2022-10-31T23:04:48.206786",
     "status": "completed"
    },
    "tags": []
   },
   "source": [
    "## Introduction/Background\n",
    "\n",
    "The purpose of this model is to use three million book reviews with 212,404 unique books from a dataset named Amazon Book Reviews to predict if a book recieved a positive or negative rating based on the written review. The data was taken from book reviews on Amazon. The written review text will be classified as postive or negative. Since Amazon rates from 1 to 5 the scores of 1-2 will be considered negative, 3 will be considered nuetral, and 4 to 5 as positive. After the written review is classified as positive or negative it will be compared to the score given by the reviewer. The link to this dataset is https://www.kaggle.com/datasets/mohamedbakhet/amazon-books-reviews?select=Books_rating.csv. "
   ]
  },
  {
   "cell_type": "markdown",
   "id": "7e96c6ec",
   "metadata": {
    "papermill": {
     "duration": 0.001442,
     "end_time": "2022-10-31T23:04:48.211520",
     "exception": false,
     "start_time": "2022-10-31T23:04:48.210078",
     "status": "completed"
    },
    "tags": []
   },
   "source": [
    "## Exploratory Data Analysis\n",
    "\n",
    "_You will now load the dataset and carry out some exploratory data analysis steps to better understand what text data looks like. See the examples from class on 10/. The following links provide some good resources of exploratory analyses of text data with Python._\n",
    "\n",
    "\n",
    "* https://neptune.ai/blog/exploratory-data-analysis-natural-language-processing-tools\n",
    "* https://regenerativetoday.com/exploratory-data-analysis-of-text-data-including-visualization-and-sentiment-analysis/\n",
    "* https://medium.com/swlh/text-summarization-guide-exploratory-data-analysis-on-text-data-4e22ce2dd6ad  \n",
    "* https://www.kdnuggets.com/2019/05/complete-exploratory-data-analysis-visualization-text-data.html  \n"
   ]
  },
  {
   "cell_type": "code",
   "execution_count": 1,
   "id": "eb28fdf9",
   "metadata": {
    "execution": {
     "iopub.execute_input": "2022-10-31T23:04:48.217954Z",
     "iopub.status.busy": "2022-10-31T23:04:48.216943Z",
     "iopub.status.idle": "2022-10-31T23:04:48.229163Z",
     "shell.execute_reply": "2022-10-31T23:04:48.228411Z"
    },
    "papermill": {
     "duration": 0.018305,
     "end_time": "2022-10-31T23:04:48.231549",
     "exception": false,
     "start_time": "2022-10-31T23:04:48.213244",
     "status": "completed"
    },
    "tags": []
   },
   "outputs": [],
   "source": [
    "# import all of the python modules/packages you'll need here\n",
    "import pandas as pd\n",
    "import numpy as np\n",
    "# ..."
   ]
  },
  {
   "cell_type": "code",
   "execution_count": null,
   "id": "4459075d",
   "metadata": {
    "papermill": {
     "duration": 0.001665,
     "end_time": "2022-10-31T23:04:48.235274",
     "exception": false,
     "start_time": "2022-10-31T23:04:48.233609",
     "status": "completed"
    },
    "tags": []
   },
   "outputs": [],
   "source": []
  }
 ],
 "metadata": {
  "kernelspec": {
   "display_name": "Python 3",
   "language": "python",
   "name": "python3"
  },
  "language_info": {
   "codemirror_mode": {
    "name": "ipython",
    "version": 3
   },
   "file_extension": ".py",
   "mimetype": "text/x-python",
   "name": "python",
   "nbconvert_exporter": "python",
   "pygments_lexer": "ipython3",
   "version": "3.7.12"
  },
  "papermill": {
   "default_parameters": {},
   "duration": 8.682157,
   "end_time": "2022-10-31T23:04:48.857561",
   "environment_variables": {},
   "exception": null,
   "input_path": "__notebook__.ipynb",
   "output_path": "__notebook__.ipynb",
   "parameters": {},
   "start_time": "2022-10-31T23:04:40.175404",
   "version": "2.3.4"
  }
 },
 "nbformat": 4,
 "nbformat_minor": 5
}
