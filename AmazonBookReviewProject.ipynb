{
 "cells": [
  {
   "cell_type": "markdown",
   "id": "feb7d4e4",
   "metadata": {
    "papermill": {
     "duration": 0.003344,
     "end_time": "2022-10-31T22:40:23.025499",
     "exception": false,
     "start_time": "2022-10-31T22:40:23.022155",
     "status": "completed"
    },
    "tags": []
   },
   "source": [
    "# Predicting Book Review as positive or negative based on written Amazon Book Reviews \n",
    "\n",
    "\n",
    "This notebook is intended to serve as a template to complete Part 1 of the projects. Feel free to modify this notebook as needed, but be sure to have the two main parts, a) a introductory proposal section describing what it is your doing to do and where the dataset originates, and b) an exploratory analysis section that has the histograms, charts, tables, etc. that are the output from your exploratory analysis. \n",
    "\n",
    "__Note you will want to remove the text above, and in the markdown cells below, and replace it with your own text describing the dataset, task, exploratory steps, etc.__"
   ]
  },
  {
   "cell_type": "markdown",
   "id": "9a81172f",
   "metadata": {
    "papermill": {
     "duration": 0.001634,
     "end_time": "2022-10-31T22:40:23.029385",
     "exception": false,
     "start_time": "2022-10-31T22:40:23.027751",
     "status": "completed"
    },
    "tags": []
   },
   "source": [
    "## Introduction/Background\n",
    "\n",
    "The purpose of this model is to use three million book reviews with 212,404 unique books from a dataset named Amazon Book Reviews to predict if a book recieved a positive or negative rating based on the written review. The written review text will be classified as postive or negative and checked against the score given by the reviewer. Since Amazon rates from 1 to 5 the scores of 1-2 will be considered negative, 3 will be considered nuetral, and 4 to 5 as positive. The link to this dataset is https://www.kaggle.com/datasets/mohamedbakhet/amazon-books-reviews?select=Books_rating.csv. \n",
    "\n",
    "_In this section you will describe (in English) the dataset you are using as well as the NLP problem it deals with. For example, if you are planning to use the Twitter Natural Disaster dataset, then you will describe what the data and where it came as if you were explaining it to someone who does not know anything about the data. You will then describe how this is a __text classification__ problem, and that the labels are binary (e.g. a tweet either refers to a genuine/real natural disaster, or it does not)._ \n",
    "\n",
    "_Overall, this should be about a paragraph of text that could be read by someone outside of our class, and they could still understand what it is your project is doing._ \n",
    "\n",
    "_Note that you should __not__ simply write one sentence stating, \"This project is base on the Kaggle competition: Predicting Natural Disasters with Twitter._\"\n",
    "\n",
    "_If you are still looking for datasets to use, consider the following resources to explore text datasets._\n",
    "\n",
    "* https://huggingface.co/datasets\n",
    "* https://www.kaggle.com/datasets\n",
    "* https://pytorch.org/text/stable/datasets.html\n",
    "* https://github.com/niderhoff/nlp-datasets \n",
    "* https://medium.com/@ODSC/20-open-datasets-for-natural-language-processing-538fbfaf8e38 \n",
    "* https://imerit.net/blog/25-best-nlp-datasets-for-machine-learning-all-pbm/ \n",
    "* https://index.quantumstat.com/#dataset\n"
   ]
  },
  {
   "cell_type": "markdown",
   "id": "2427bcfd",
   "metadata": {
    "papermill": {
     "duration": 0.001547,
     "end_time": "2022-10-31T22:40:23.032762",
     "exception": false,
     "start_time": "2022-10-31T22:40:23.031215",
     "status": "completed"
    },
    "tags": []
   },
   "source": [
    "## Exploratory Data Analysis\n",
    "\n",
    "_You will now load the dataset and carry out some exploratory data analysis steps to better understand what text data looks like. See the examples from class on 10/. The following links provide some good resources of exploratory analyses of text data with Python._\n",
    "\n",
    "\n",
    "* https://neptune.ai/blog/exploratory-data-analysis-natural-language-processing-tools\n",
    "* https://regenerativetoday.com/exploratory-data-analysis-of-text-data-including-visualization-and-sentiment-analysis/\n",
    "* https://medium.com/swlh/text-summarization-guide-exploratory-data-analysis-on-text-data-4e22ce2dd6ad  \n",
    "* https://www.kdnuggets.com/2019/05/complete-exploratory-data-analysis-visualization-text-data.html  \n"
   ]
  },
  {
   "cell_type": "code",
   "execution_count": 1,
   "id": "7cf6df86",
   "metadata": {
    "execution": {
     "iopub.execute_input": "2022-10-31T22:40:23.038728Z",
     "iopub.status.busy": "2022-10-31T22:40:23.038154Z",
     "iopub.status.idle": "2022-10-31T22:40:23.048986Z",
     "shell.execute_reply": "2022-10-31T22:40:23.047753Z"
    },
    "papermill": {
     "duration": 0.017009,
     "end_time": "2022-10-31T22:40:23.051556",
     "exception": false,
     "start_time": "2022-10-31T22:40:23.034547",
     "status": "completed"
    },
    "tags": []
   },
   "outputs": [],
   "source": [
    "# import all of the python modules/packages you'll need here\n",
    "import pandas as pd\n",
    "# ..."
   ]
  },
  {
   "cell_type": "code",
   "execution_count": null,
   "id": "8536a9ee",
   "metadata": {
    "papermill": {
     "duration": 0.001989,
     "end_time": "2022-10-31T22:40:23.055846",
     "exception": false,
     "start_time": "2022-10-31T22:40:23.053857",
     "status": "completed"
    },
    "tags": []
   },
   "outputs": [],
   "source": []
  }
 ],
 "metadata": {
  "kernelspec": {
   "display_name": "Python 3",
   "language": "python",
   "name": "python3"
  },
  "language_info": {
   "codemirror_mode": {
    "name": "ipython",
    "version": 3
   },
   "file_extension": ".py",
   "mimetype": "text/x-python",
   "name": "python",
   "nbconvert_exporter": "python",
   "pygments_lexer": "ipython3",
   "version": "3.7.12"
  },
  "papermill": {
   "default_parameters": {},
   "duration": 9.692111,
   "end_time": "2022-10-31T22:40:23.785913",
   "environment_variables": {},
   "exception": null,
   "input_path": "__notebook__.ipynb",
   "output_path": "__notebook__.ipynb",
   "parameters": {},
   "start_time": "2022-10-31T22:40:14.093802",
   "version": "2.3.4"
  }
 },
 "nbformat": 4,
 "nbformat_minor": 5
}
